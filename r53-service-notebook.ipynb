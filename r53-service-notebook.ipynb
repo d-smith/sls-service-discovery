{
 "cells": [
  {
   "cell_type": "markdown",
   "metadata": {},
   "source": [
    "# Route 53 Service Notebook"
   ]
  },
  {
   "cell_type": "code",
   "execution_count": null,
   "metadata": {},
   "outputs": [],
   "source": [
    "import boto3\n",
    "\n",
    "r53_client = boto3.client('route53', region_name='us-west-2')\n",
    "sd_client = boto3.client('servicediscovery', region_name='us-west-2')"
   ]
  },
  {
   "cell_type": "code",
   "execution_count": null,
   "metadata": {},
   "outputs": [],
   "source": [
    "cf_client = boto3.client('cloudformation')"
   ]
  },
  {
   "cell_type": "code",
   "execution_count": null,
   "metadata": {},
   "outputs": [],
   "source": [
    "response = cf_client.list_stacks(\n",
    "    StackStatusFilter=[\n",
    "        'CREATE_COMPLETE'\n",
    "    ]\n",
    ")\n",
    "\n",
    "print(response)"
   ]
  },
  {
   "cell_type": "code",
   "execution_count": null,
   "metadata": {},
   "outputs": [],
   "source": [
    "response = cf_client.describe_stacks(\n",
    "    StackName='vpc'\n",
    ")\n",
    "\n",
    "print(response)"
   ]
  },
  {
   "cell_type": "code",
   "execution_count": null,
   "metadata": {},
   "outputs": [],
   "source": [
    "outputs = response['Stacks'][0]['Outputs']\n",
    "vpcId = [x for x in outputs if x['OutputKey'] == 'VpcId'][0]['OutputValue']\n",
    "print (vpcId)"
   ]
  },
  {
   "cell_type": "code",
   "execution_count": null,
   "metadata": {},
   "outputs": [],
   "source": [
    "# List namespaces\n",
    "response = sd_client.list_namespaces()\n",
    "print(response)"
   ]
  },
  {
   "cell_type": "code",
   "execution_count": null,
   "metadata": {},
   "outputs": [],
   "source": [
    "# Create a namespace\n",
    "response = sd_client.create_private_dns_namespace(\n",
    "    Name='sector7.internal',\n",
    "    Description='Sector 7',\n",
    "    Vpc=vpcId\n",
    ")\n",
    "\n",
    "print(response)"
   ]
  },
  {
   "cell_type": "code",
   "execution_count": null,
   "metadata": {},
   "outputs": [],
   "source": [
    "# Extract the namespace id\n",
    "# List namespaces\n",
    "response = sd_client.list_namespaces()\n",
    "namespaces = response['Namespaces']\n",
    "print([x for x in namespaces if x['Name'] == 'sector7.internal'])\n",
    "namespaceId = [x for x in namespaces if x['Name'] == 'sector7.internal'][0]['Id']\n",
    "print(namespaceId)"
   ]
  },
  {
   "cell_type": "code",
   "execution_count": null,
   "metadata": {},
   "outputs": [],
   "source": [
    "# Create a service\n",
    "response = sd_client.create_service(\n",
    "    Name='examplesvc',\n",
    "    Description='an example service',\n",
    "    DnsConfig={\n",
    "        'NamespaceId': namespaceId,\n",
    "        'RoutingPolicy': 'WEIGHTED',\n",
    "        'DnsRecords': [\n",
    "            {\n",
    "                'Type': 'CNAME',\n",
    "                'TTL': 600\n",
    "            },\n",
    "        ]\n",
    "    }\n",
    ")\n",
    "\n",
    "print(response)"
   ]
  },
  {
   "cell_type": "code",
   "execution_count": null,
   "metadata": {},
   "outputs": [],
   "source": [
    "# Extract the service id\n",
    "serviceId = response['Service']['Id']\n",
    "print(serviceId)"
   ]
  },
  {
   "cell_type": "code",
   "execution_count": null,
   "metadata": {},
   "outputs": [],
   "source": [
    "# Add an instance\n",
    "response = sd_client.register_instance(\n",
    "    ServiceId=serviceId,\n",
    "    InstanceId='a',\n",
    "    Attributes={\n",
    "        'AWS_INSTANCE_CNAME': 'www.example.com'\n",
    "    }\n",
    ")\n",
    "\n",
    "print(response)"
   ]
  },
  {
   "cell_type": "code",
   "execution_count": null,
   "metadata": {},
   "outputs": [],
   "source": []
  }
 ],
 "metadata": {
  "kernelspec": {
   "display_name": "Python 3",
   "language": "python",
   "name": "python3"
  },
  "language_info": {
   "codemirror_mode": {
    "name": "ipython",
    "version": 3
   },
   "file_extension": ".py",
   "mimetype": "text/x-python",
   "name": "python",
   "nbconvert_exporter": "python",
   "pygments_lexer": "ipython3",
   "version": "3.6.5"
  }
 },
 "nbformat": 4,
 "nbformat_minor": 2
}
